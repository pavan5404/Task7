{
 "cells": [
  {
   "cell_type": "code",
   "execution_count": 1,
   "id": "91bb3a69-e34f-474f-8a7c-8c13954e513e",
   "metadata": {},
   "outputs": [],
   "source": [
    "import sqlite3\n",
    "import pandas as pd\n",
    "import matplotlib.pyplot as plt"
   ]
  },
  {
   "cell_type": "code",
   "execution_count": 2,
   "id": "0287d4f9-c640-4729-b077-00c5a47df0bf",
   "metadata": {},
   "outputs": [],
   "source": [
    "conn = sqlite3.connect('sales_data.db')\n",
    "cursor = conn.cursor()"
   ]
  },
  {
   "cell_type": "code",
   "execution_count": 3,
   "id": "23287da1-d4ab-4e55-9556-6d5827d1e709",
   "metadata": {},
   "outputs": [
    {
     "data": {
      "text/plain": [
       "<sqlite3.Cursor at 0x2db19fb96c0>"
      ]
     },
     "execution_count": 3,
     "metadata": {},
     "output_type": "execute_result"
    }
   ],
   "source": [
    "cursor.execute('''\n",
    "    CREATE TABLE IF NOT EXISTS sales (\n",
    "        id INTEGER PRIMARY KEY,\n",
    "        product TEXT NOT NULL,\n",
    "        quantity INTEGER NOT NULL,\n",
    "        price REAL NOT NULL\n",
    "    )\n",
    "''')"
   ]
  },
  {
   "cell_type": "code",
   "execution_count": 4,
   "id": "a4f7fa33-9c7d-4efa-8fb5-ed0c5126fa0f",
   "metadata": {},
   "outputs": [
    {
     "data": {
      "text/plain": [
       "<sqlite3.Cursor at 0x2db19fb96c0>"
      ]
     },
     "execution_count": 4,
     "metadata": {},
     "output_type": "execute_result"
    }
   ],
   "source": [
    "cursor.execute('''\n",
    "    CREATE TABLE IF NOT EXISTS sales (\n",
    "        id INTEGER PRIMARY KEY,\n",
    "        product TEXT NOT NULL,\n",
    "        quantity INTEGER NOT NULL,\n",
    "        price REAL NOT NULL\n",
    "    )\n",
    "''')"
   ]
  },
  {
   "cell_type": "code",
   "execution_count": 5,
   "id": "0b6512c7-5a1a-46e8-90f2-db2cbfaa5225",
   "metadata": {},
   "outputs": [],
   "source": [
    "try:\n",
    "    cursor.execute('''\n",
    "        CREATE TABLE IF NOT EXISTS sales (\n",
    "            id INTEGER PRIMARY KEY AUTOINCREMENT,\n",
    "            product TEXT NOT NULL,\n",
    "            quantity INTEGER NOT NULL,\n",
    "            price REAL NOT NULL\n",
    "        )\n",
    "    ''')\n",
    "except sqlite3.Error as e:\n",
    "    print(\"Error creating table:\", e)"
   ]
  },
  {
   "cell_type": "code",
   "execution_count": 6,
   "id": "d1ecf445-7a12-4c0c-9f23-96ce19d877aa",
   "metadata": {},
   "outputs": [],
   "source": [
    "cursor.execute('SELECT COUNT(*) FROM sales')\n",
    "if cursor.fetchone()[0] == 0:\n",
    "    sample_data = [\n",
    "        ('Product A', 10, 5.0),\n",
    "        ('Product B', 20, 7.5),\n",
    "        ('Product C', 15, 6.0),\n",
    "        ('Product A', 5, 5.0),\n",
    "        ('Product B', 10, 7.5),\n",
    "        ('Product C', 5, 6.0)\n",
    "    ]\n",
    "    try:\n",
    "        cursor.executemany('INSERT INTO sales (product, quantity, price) VALUES (?, ?, ?)', sample_data)\n",
    "        conn.commit()\n",
    "    except sqlite3.Error as e:\n",
    "        print(\"Error inserting data:\", e)"
   ]
  },
  {
   "cell_type": "code",
   "execution_count": 7,
   "id": "d998cebb-f0a1-45af-97d9-b617be00f356",
   "metadata": {},
   "outputs": [],
   "source": [
    "query = '''\n",
    "    SELECT product,\n",
    "           SUM(quantity) AS total_qty,\n",
    "           SUM(quantity * price) AS revenue\n",
    "    FROM sales\n",
    "    GROUP BY product\n",
    "'''"
   ]
  },
  {
   "cell_type": "code",
   "execution_count": 8,
   "id": "ca03e083-a0dc-48b1-9ebf-ed6420fa4580",
   "metadata": {},
   "outputs": [
    {
     "name": "stdout",
     "output_type": "stream",
     "text": [
      "Sales Summary:\n",
      "      product  total_qty  revenue\n",
      "0  Product A         15     75.0\n",
      "1  Product B         30    225.0\n",
      "2  Product C         20    120.0\n"
     ]
    }
   ],
   "source": [
    "df = pd.read_sql_query(query, conn)\n",
    "print(\"Sales Summary:\\n\", df)"
   ]
  },
  {
   "cell_type": "code",
   "execution_count": 9,
   "id": "84c89b5e-128b-4b76-b69a-c9a8ba661b3d",
   "metadata": {},
   "outputs": [
    {
     "data": {
      "image/png": "[encoded data removed]",
      "text/plain": [
       "<Figure size 640x480 with 1 Axes>"
      ]
     },
     "metadata": {},
     "output_type": "display_data"
    }
   ],
   "source": [
    "df.plot(kind='bar', x='product', y='revenue', legend=False)\n",
    "plt.title('Revenue by Product')\n",
    "plt.ylabel('Revenue')\n",
    "plt.tight_layout()\n",
    "plt.savefig('sales_chart.png')\n",
    "plt.show()"
   ]
  },
  {
   "cell_type": "code",
   "execution_count": null,
   "id": "3d2b0256-1609-444a-b19a-4b37c2ae0087",
   "metadata": {},
   "outputs": [],
   "source": []
  }
 ],
 "metadata": {
  "kernelspec": {
   "display_name": "Python [conda env:base] *",
   "language": "python",
   "name": "conda-base-py"
  },
  "language_info": {
   "codemirror_mode": {
    "name": "ipython",
    "version": 3
   },
   "file_extension": ".py",
   "mimetype": "text/x-python",
   "name": "python",
   "nbconvert_exporter": "python",
   "pygments_lexer": "ipython3",
   "version": "3.12.7"
  }
 },
 "nbformat": 4,
 "nbformat_minor": 5
}
